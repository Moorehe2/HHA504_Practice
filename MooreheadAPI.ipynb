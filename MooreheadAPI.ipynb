{
  "nbformat": 4,
  "nbformat_minor": 0,
  "metadata": {
    "colab": {
      "name": "MooreheadAPI",
      "provenance": [],
      "authorship_tag": "ABX9TyNZCZ0b1Gewfq30ANdBlkg8",
      "include_colab_link": true
    },
    "kernelspec": {
      "name": "python3",
      "display_name": "Python 3"
    },
    "language_info": {
      "name": "python"
    }
  },
  "cells": [
    {
      "cell_type": "markdown",
      "metadata": {
        "id": "view-in-github",
        "colab_type": "text"
      },
      "source": [
        "<a href=\"https://colab.research.google.com/github/Moorehe2/HHA504_Practice/blob/main/MooreheadAPI.ipynb\" target=\"_parent\"><img src=\"https://colab.research.google.com/assets/colab-badge.svg\" alt=\"Open In Colab\"/></a>"
      ]
    },
    {
      "cell_type": "code",
      "metadata": {
        "id": "s1AUM9Miv4vv",
        "colab": {
          "base_uri": "https://localhost:8080/"
        },
        "outputId": "54cc6753-c49f-4996-8adc-d8b9728ac8b1"
      },
      "source": [
        "import request\n",
        "\n",
        "\n",
        "PUBLIC API - Covidtracking GET Request\n",
        "\n",
        "\n",
        "response = requests.get(\"http://api.covidtracking.com\")\n",
        "response.status_code\n",
        "\n",
        "\n"
      ],
      "execution_count": null,
      "outputs": [
        {
          "output_type": "execute_result",
          "data": {
            "text/plain": [
              "200"
            ]
          },
          "metadata": {},
          "execution_count": 5
        }
      ]
    },
    {
      "cell_type": "markdown",
      "metadata": {
        "id": "4OZpy44i7Tq3"
      },
      "source": [
        "Get COVIDtracking in United States Daily"
      ]
    },
    {
      "cell_type": "markdown",
      "metadata": {
        "id": "Y9dVnulM7imM"
      },
      "source": [
        ""
      ]
    },
    {
      "cell_type": "code",
      "metadata": {
        "id": "_yfD0ueDwEXR"
      },
      "source": [
        "response2 = requests.get('http://api.covidtracking.com/v1/us/daily.json')"
      ],
      "execution_count": null,
      "outputs": []
    },
    {
      "cell_type": "code",
      "metadata": {
        "id": "dlnYB7CJwtAr",
        "colab": {
          "base_uri": "https://localhost:8080/"
        },
        "outputId": "b4216b6a-bd6b-49a9-d52c-e5d8cdcd09f4"
      },
      "source": [
        "response2.status_code\n"
      ],
      "execution_count": null,
      "outputs": [
        {
          "output_type": "execute_result",
          "data": {
            "text/plain": [
              "200"
            ]
          },
          "metadata": {},
          "execution_count": 37
        }
      ]
    },
    {
      "cell_type": "markdown",
      "metadata": {
        "id": "_PTM1meT7kcF"
      },
      "source": [
        "List Json file with header and value"
      ]
    },
    {
      "cell_type": "code",
      "metadata": {
        "colab": {
          "base_uri": "https://localhost:8080/"
        },
        "id": "0CpzVosg4wA0",
        "outputId": "bc84ee6a-45fb-409d-9a1c-dff88cb0e90c"
      },
      "source": [
        "response2.json()"
      ],
      "execution_count": 42,
      "outputs": [
        {
          "output_type": "execute_result",
          "data": {
            "text/plain": [
              "[{'date': 20210307,\n",
              "  'dateChecked': '2021-03-07T24:00:00Z',\n",
              "  'death': 515151,\n",
              "  'deathIncrease': 842,\n",
              "  'hash': 'a80d0063822e251249fd9a44730c49cb23defd83',\n",
              "  'hospitalized': 776361,\n",
              "  'hospitalizedCumulative': 776361,\n",
              "  'hospitalizedCurrently': 40199,\n",
              "  'hospitalizedIncrease': 726,\n",
              "  'inIcuCumulative': 45475,\n",
              "  'inIcuCurrently': 8134,\n",
              "  'lastModified': '2021-03-07T24:00:00Z',\n",
              "  'negative': 74582825,\n",
              "  'negativeIncrease': 131835,\n",
              "  'onVentilatorCumulative': 4281,\n",
              "  'onVentilatorCurrently': 2802,\n",
              "  'pending': 11808,\n",
              "  'posNeg': 0,\n",
              "  'positive': 28756489,\n",
              "  'positiveIncrease': 41835,\n",
              "  'recovered': None,\n",
              "  'states': 56,\n",
              "  'total': 0,\n",
              "  'totalTestResults': 363825123,\n",
              "  'totalTestResultsIncrease': 1170059}]"
            ]
          },
          "metadata": {},
          "execution_count": 42
        }
      ]
    }
  ]
}